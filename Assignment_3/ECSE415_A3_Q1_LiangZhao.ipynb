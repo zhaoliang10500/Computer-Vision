{
  "nbformat": 4,
  "nbformat_minor": 0,
  "metadata": {
    "colab": {
      "name": "ECSE415_A3_Q1_LiangZhao.ipynb",
      "provenance": [],
      "toc_visible": true
    },
    "kernelspec": {
      "name": "python3",
      "display_name": "Python 3"
    }
  },
  "cells": [
    {
      "cell_type": "markdown",
      "metadata": {
        "id": "m3r_CGAX0zMm"
      },
      "source": [
        "###README</br>\n",
        "**Q1**</br>\n",
        "**Liang Zhao 260781081**\n",
        "- Every question is listed in the table of contents.\n",
        "- Some questions are answered together in one code snippet."
      ]
    },
    {
      "cell_type": "code",
      "metadata": {
        "id": "F2poqClS3ajc"
      },
      "source": [
        "# All imports are defined here\n",
        "import numpy as np\n",
        "import cv2\n",
        "import os\n",
        "import matplotlib.pyplot as plt\n",
        "from sklearn import svm\n",
        "from sklearn import metrics\n",
        "from sklearn.ensemble import RandomForestClassifier"
      ],
      "execution_count": 2,
      "outputs": []
    },
    {
      "cell_type": "markdown",
      "metadata": {
        "id": "BAR3T6Bj3cV5"
      },
      "source": [
        "#1.Image Classification using RF and SVM"
      ]
    },
    {
      "cell_type": "code",
      "metadata": {
        "id": "glq_Kkas4oqw"
      },
      "source": [
        "# Load images from npz file\n",
        "train_images = np.load(\"flower_subset.npz\")['train_images']\n",
        "train_labels = np.load(\"flower_subset.npz\")['train_labels'] \n",
        "test_images = np.load(\"flower_subset.npz\")['test_images'] \n",
        "test_labels = np.load(\"flower_subset.npz\")['test_labels']\n",
        "\n",
        "# Resize the images to 64 x 64\n",
        "resized_trains = []\n",
        "resized_tests = []\n",
        "for train in train_images:\n",
        "  resized_trains.append(cv2.resize(train, (64,64)))\n",
        "for test in test_images:\n",
        "  resized_tests.append(cv2.resize(test, (64,64)))"
      ],
      "execution_count": 4,
      "outputs": []
    },
    {
      "cell_type": "code",
      "metadata": {
        "id": "oMrAJwwGJaG3"
      },
      "source": [
        "def hog_compute(img, cell_size, block_size, nbins, img_size):\n",
        "  # create HoG Object\n",
        "  # winSize is the size of the image cropped to multiple of the cell size\n",
        "  # all arguments should be given in terms of number of pixels\n",
        "  hog = cv2.HOGDescriptor(_winSize=(img_size[1] // cell_size[1] * cell_size[1],\n",
        "                                img_size[0] // cell_size[0] * cell_size[0]),\n",
        "                          _blockSize=(block_size[1] * cell_size[1],\n",
        "                                block_size[0] * cell_size[0]),\n",
        "                          _blockStride=(cell_size[1], cell_size[0]),\n",
        "                          _cellSize=(cell_size[1], cell_size[0]),\n",
        "                          _nbins=nbins)\n",
        "\n",
        "  features = []\n",
        "  for i in range(len(img)):\n",
        "    features.append(hog.compute((img[i]*255).reshape(64,64).astype(np.uint8)).reshape(1, -1))\n",
        "  features = np.vstack(features)\n",
        "  return features"
      ],
      "execution_count": 5,
      "outputs": []
    },
    {
      "cell_type": "code",
      "metadata": {
        "id": "wVhDaSn2RXuv"
      },
      "source": [
        "def calc_accuracy (test_feas, test_labels):\n",
        "  num_corr = 0\n",
        "  for i in range(len(clf.predict(test_feas))):\n",
        "    if clf.predict(test_feas)[i] == test_labels[i]:\n",
        "      num_corr = num_corr + 1\n",
        "  accuracy = num_corr / len(clf.predict(test_feas))\n",
        "  print(\"Accuracy: \", accuracy)\n",
        "  print(\"\")"
      ],
      "execution_count": 8,
      "outputs": []
    },
    {
      "cell_type": "markdown",
      "metadata": {
        "id": "CSIgChOj3jOM"
      },
      "source": [
        "##1.1. Resize the train/test images"
      ]
    },
    {
      "cell_type": "code",
      "metadata": {
        "id": "ekGVCjMTKzsX"
      },
      "source": [
        "train_feas = hog_compute(resized_trains, (8,8), (4,4), 4, (64,64))\n",
        "test_feas = hog_compute(resized_tests, (8,8), (4,4), 4, (64,64))"
      ],
      "execution_count": 9,
      "outputs": []
    },
    {
      "cell_type": "markdown",
      "metadata": {
        "id": "GKeCtg0i3qmm"
      },
      "source": [
        "##1.2. Fit a non-linear SVM classifier on the features and the class labels of the training images."
      ]
    },
    {
      "cell_type": "markdown",
      "metadata": {
        "id": "_A9PagG-316r"
      },
      "source": [
        "##1.3. Predict labels of the test images and calculate classification accuracy."
      ]
    },
    {
      "cell_type": "code",
      "metadata": {
        "id": "th3eCqncJkvI",
        "outputId": "ac161bdc-fad9-4e58-964e-c3bccfe9daf1",
        "colab": {
          "base_uri": "https://localhost:8080/"
        }
      },
      "source": [
        "#1.2. Fit a non-linear SVM classifier\n",
        "clf = svm.SVC(gamma='auto', C=1) \n",
        "clf.fit(train_feas, train_labels)\n",
        "\n",
        "#1.3. Predict labels of the test images and calculate classification accuracy.\n",
        "print(\"Predicted Label:\", clf.predict(test_feas))\n",
        "print(\"Actual Label:\", test_labels)\n",
        "calc_accuracy (test_feas, test_labels)"
      ],
      "execution_count": null,
      "outputs": [
        {
          "output_type": "stream",
          "text": [
            "Predicted Label: [1 1 1 1 1 1 1 1 1 1 1 1 1 1 1 1 1 1 1 1 1 1 1 1 1 1 1 1 1 1 1 1 1 1 1 1 1\n",
            " 1 1 1 1 1 1 1 1 1 1 1 1 1 1 1 1 1 1 1 1 1 1 1 1 1 1 1 1 1 1 1 1 1 1 1 1 1\n",
            " 1 1 1 1 1 1 1 1 1 1 1 1 1 1 1 1]\n",
            "Actual Label: [0 0 0 0 0 0 0 0 0 0 1 1 1 1 1 1 1 1 1 1 2 2 2 2 2 2 2 2 2 2 3 3 3 3 3 3 3\n",
            " 3 3 3 4 4 4 4 4 4 4 4 4 4 5 5 5 5 5 5 5 5 5 5 6 6 6 6 6 6 6 6 6 6 7 7 7 7\n",
            " 7 7 7 7 7 7 8 8 8 8 8 8 8 8 8 8]\n",
            "Accuracy:  0.1111111111111111\n"
          ],
          "name": "stdout"
        }
      ]
    },
    {
      "cell_type": "markdown",
      "metadata": {
        "id": "dB19OYZH39Cy"
      },
      "source": [
        "##1.4. Tune values of hyperparameters ‘gamma’ and ‘C’ to achieve test accuracy greater than 50%."
      ]
    },
    {
      "cell_type": "code",
      "metadata": {
        "id": "2zVUeDcdSUhH",
        "outputId": "5cfc713f-0de6-4673-d9d2-e36264fe2843",
        "colab": {
          "base_uri": "https://localhost:8080/"
        }
      },
      "source": [
        "clf = svm.SVC(gamma=0.01, C=100000) \n",
        "clf.fit(train_feas, train_labels)\n",
        "\n",
        "print(\"Predicted Label:\", clf.predict(test_feas))\n",
        "print(\"Actual Label:\", test_labels)\n",
        "calc_accuracy (test_feas, test_labels)"
      ],
      "execution_count": null,
      "outputs": [
        {
          "output_type": "stream",
          "text": [
            "Predicted Label: [0 0 0 7 0 3 0 0 0 0 0 7 5 1 0 1 1 6 1 1 1 2 2 2 2 2 2 2 2 2 5 3 1 3 3 3 3\n",
            " 8 2 6 4 4 4 4 4 4 4 4 4 4 0 2 5 6 5 6 5 5 4 5 1 3 1 7 6 6 6 1 3 6 1 7 7 1\n",
            " 7 3 1 7 7 0 0 8 8 3 8 0 0 8 0 3]\n",
            "Actual Label: [0 0 0 0 0 0 0 0 0 0 1 1 1 1 1 1 1 1 1 1 2 2 2 2 2 2 2 2 2 2 3 3 3 3 3 3 3\n",
            " 3 3 3 4 4 4 4 4 4 4 4 4 4 5 5 5 5 5 5 5 5 5 5 6 6 6 6 6 6 6 6 6 6 7 7 7 7\n",
            " 7 7 7 7 7 7 8 8 8 8 8 8 8 8 8 8]\n",
            "Accuracy:  0.6111111111111112\n"
          ],
          "name": "stdout"
        }
      ]
    },
    {
      "cell_type": "markdown",
      "metadata": {
        "id": "IYTOXFdi4Bvt"
      },
      "source": [
        "##1.5. Fit a Random Forest(RF) classifier on the features and the class labels of the training images."
      ]
    },
    {
      "cell_type": "markdown",
      "metadata": {
        "id": "Cxgqx0tX4CE_"
      },
      "source": [
        "##1.6. Predict labels of the test images by feeding the test features to the trained classifier and calculate classification accuracy"
      ]
    },
    {
      "cell_type": "code",
      "metadata": {
        "id": "0rHZljO1S89a",
        "outputId": "72d3dc4a-b9de-44d9-8698-88b662f99fea",
        "colab": {
          "base_uri": "https://localhost:8080/"
        }
      },
      "source": [
        "#1.5. Fit a Random Forest(RF) classifier\n",
        "clf = RandomForestClassifier(n_estimators=10, max_depth=5, criterion='entropy')\n",
        "clf.fit(train_feas, train_labels)\n",
        "\n",
        "#1.6. Predict labels of the test images\n",
        "print(\"Predicted Label:\", clf.predict(test_feas))\n",
        "print(\"Actual Label:\", test_labels)\n",
        "calc_accuracy (test_feas, test_labels)"
      ],
      "execution_count": null,
      "outputs": [
        {
          "output_type": "stream",
          "text": [
            "Predicted Label: [0 0 4 7 4 1 4 4 4 4 0 1 6 7 1 1 4 6 1 3 4 2 2 3 2 2 2 2 2 5 1 2 1 3 3 2 3\n",
            " 7 2 1 4 4 1 4 4 4 2 4 4 4 4 6 4 2 1 3 3 1 1 7 6 6 2 1 6 6 6 4 6 2 4 1 0 1\n",
            " 4 3 1 4 4 4 4 4 4 1 8 8 1 8 1 4]\n",
            "Actual Label: [0 0 0 0 0 0 0 0 0 0 1 1 1 1 1 1 1 1 1 1 2 2 2 2 2 2 2 2 2 2 3 3 3 3 3 3 3\n",
            " 3 3 3 4 4 4 4 4 4 4 4 4 4 5 5 5 5 5 5 5 5 5 5 6 6 6 6 6 6 6 6 6 6 7 7 7 7\n",
            " 7 7 7 7 7 7 8 8 8 8 8 8 8 8 8 8]\n",
            "Accuracy:  0.36666666666666664\n"
          ],
          "name": "stdout"
        }
      ]
    },
    {
      "cell_type": "markdown",
      "metadata": {
        "id": "0p1HvPm74CbJ"
      },
      "source": [
        "##1.7. Tune values of hyperparameters ‘n estimators’ and ‘max depth’ to achieve test accuracy greater than 50%. "
      ]
    },
    {
      "cell_type": "code",
      "metadata": {
        "id": "4oe5xSafTzjw",
        "outputId": "28975f5e-9d7f-48ea-adcf-69e59a2730e6",
        "colab": {
          "base_uri": "https://localhost:8080/"
        }
      },
      "source": [
        "clf = RandomForestClassifier(n_estimators=100, max_depth=10, criterion='entropy')\n",
        "\n",
        "clf.fit(train_feas, train_labels)\n",
        "print(\"Predicted Label:\", clf.predict(test_feas))\n",
        "print(\"Actual Label:\", test_labels)\n",
        "calc_accuracy (test_feas, test_labels)"
      ],
      "execution_count": null,
      "outputs": [
        {
          "output_type": "stream",
          "text": [
            "Predicted Label: [0 0 0 0 4 0 8 0 0 0 7 7 5 1 1 0 4 6 1 1 4 2 3 2 2 2 2 2 2 1 1 3 3 3 1 2 3\n",
            " 1 3 3 4 4 4 4 4 4 1 4 4 4 4 5 4 1 1 0 1 1 1 7 6 0 1 7 2 6 6 1 3 6 1 1 0 0\n",
            " 7 7 1 7 4 1 4 8 8 1 8 8 1 8 4 4]\n",
            "Actual Label: [0 0 0 0 0 0 0 0 0 0 1 1 1 1 1 1 1 1 1 1 2 2 2 2 2 2 2 2 2 2 3 3 3 3 3 3 3\n",
            " 3 3 3 4 4 4 4 4 4 4 4 4 4 5 5 5 5 5 5 5 5 5 5 6 6 6 6 6 6 6 6 6 6 7 7 7 7\n",
            " 7 7 7 7 7 7 8 8 8 8 8 8 8 8 8 8]\n",
            "Accuracy:  0.5222222222222223\n"
          ],
          "name": "stdout"
        }
      ]
    },
    {
      "cell_type": "markdown",
      "metadata": {
        "id": "VZjDQnZJ4CwT"
      },
      "source": [
        "##1.8. (a): Compare results of SVM and RF classifiers. Which one provides better results? "
      ]
    },
    {
      "cell_type": "markdown",
      "metadata": {
        "id": "j7rVydTra4jk"
      },
      "source": [
        "We try values:</br>\n",
        "- SVM:</br>\n",
        "  - gamma=0.01, C=100000; </br>gamma=0.01, C=100; </br>gamma=0.01, C=1;  </br>gamma=0.01, C=0.1;\n",
        "\n",
        "  - gamma=10, C=100000; </br>gamma=10, C=100; </br>gamma=10, C=1; </br>gamma=10, C=0.1;\n",
        "\n",
        "  - gamma=100, C=100000; </br>gamma=100, C=100; </br>gamma=100, C=1; </br>gamma=100, C=0.1;\n",
        "\n",
        "- RF:\n",
        "  - n_estimators=100, max_depth=10; </br>n_estimators=100, max_depth=5; </br>n_estimators=100, max_depth=1\n",
        "\n",
        "  - n_estimators=50, max_depth=10; </br>n_estimators=50, max_depth=5; </br>n_estimators=50, max_depth=1\n",
        "\n",
        "  - n_estimators=10, max_depth=10; </br>n_estimators=10, max_depth=5; </br>n_estimators=10, max_depth=1"
      ]
    },
    {
      "cell_type": "code",
      "metadata": {
        "id": "FXo5HbaWaqoz",
        "outputId": "aa8242a9-d1aa-431d-f048-b89c9d896a2e",
        "colab": {
          "base_uri": "https://localhost:8080/"
        }
      },
      "source": [
        "# RF: n_estimators=100, max_depth=10\n",
        "clf = RandomForestClassifier(n_estimators=100, max_depth=10, criterion='entropy')\n",
        "clf.fit(train_feas, train_labels)\n",
        "print(\"RF: n_estimators=100, max_depth=10\")\n",
        "calc_accuracy (test_feas, test_labels)\n",
        "\n",
        "# RF: n_estimators=100, max_depth=5\n",
        "clf = RandomForestClassifier(n_estimators=100, max_depth=5, criterion='entropy')\n",
        "clf.fit(train_feas, train_labels)\n",
        "print(\"RF: n_estimators=100, max_depth=5\")\n",
        "calc_accuracy (test_feas, test_labels)\n",
        "\n",
        "# RF: n_estimators=100, max_depth=1\n",
        "clf = RandomForestClassifier(n_estimators=100, max_depth=1, criterion='entropy')\n",
        "clf.fit(train_feas, train_labels)\n",
        "print(\"RF: n_estimators=100, max_depth=1\")\n",
        "calc_accuracy (test_feas, test_labels)\n",
        "\n",
        "# RF: n_estimators=50, max_depth=10\n",
        "clf = RandomForestClassifier(n_estimators=50, max_depth=10, criterion='entropy')\n",
        "clf.fit(train_feas, train_labels)\n",
        "print(\"RF: n_estimators=50, max_depth=10\")\n",
        "calc_accuracy (test_feas, test_labels)\n",
        "\n",
        "# RF: n_estimators=50, max_depth=5\n",
        "clf = RandomForestClassifier(n_estimators=50, max_depth=5, criterion='entropy')\n",
        "clf.fit(train_feas, train_labels)\n",
        "print(\"RF: n_estimators=50, max_depth=5\")\n",
        "calc_accuracy (test_feas, test_labels)\n",
        "\n",
        "# RF: n_estimators=50, max_depth=1\n",
        "clf = RandomForestClassifier(n_estimators=50, max_depth=1, criterion='entropy')\n",
        "clf.fit(train_feas, train_labels)\n",
        "print(\"n_estimators=50, max_depth=1\")\n",
        "calc_accuracy (test_feas, test_labels)\n",
        "\n",
        "# RF: n_estimators=10, max_depth=10\n",
        "clf = RandomForestClassifier(n_estimators=10, max_depth=10, criterion='entropy')\n",
        "clf.fit(train_feas, train_labels)\n",
        "print(\"n_estimators=10, max_depth=10\")\n",
        "calc_accuracy (test_feas, test_labels)\n",
        "\n",
        "# RF: n_estimators=10, max_depth=5\n",
        "clf = RandomForestClassifier(n_estimators=10, max_depth=5, criterion='entropy')\n",
        "clf.fit(train_feas, train_labels)\n",
        "print(\"n_estimators=10, max_depth=5\")\n",
        "calc_accuracy (test_feas, test_labels)\n",
        "\n",
        "# RF: n_estimators=10, max_depth=1\n",
        "clf = RandomForestClassifier(n_estimators=10, max_depth=1, criterion='entropy')\n",
        "clf.fit(train_feas, train_labels)\n",
        "print(\"n_estimators=10, max_depth=1\")\n",
        "calc_accuracy (test_feas, test_labels)\n",
        "\n",
        "# SVM: gamma=0.01, C=100000\n",
        "clf = svm.SVC(gamma=0.01, C=100000) \n",
        "clf.fit(train_feas, train_labels)\n",
        "print(\"SVM: gamma=0.01, C=100000\")\n",
        "calc_accuracy (test_feas, test_labels)\n",
        "\n",
        "# SVM: gamma=0.01, C=100\n",
        "clf = svm.SVC(gamma=0.01, C=100) \n",
        "clf.fit(train_feas, train_labels)\n",
        "print(\"SVM: gamma=0.01, C=100\")\n",
        "calc_accuracy (test_feas, test_labels)\n",
        "\n",
        "# SVM: gamma=0.01, C=1\n",
        "clf = svm.SVC(gamma=0.01, C=1) \n",
        "clf.fit(train_feas, train_labels)\n",
        "print(\"SVM: gamma=0.01, C=1\")\n",
        "calc_accuracy (test_feas, test_labels)\n",
        "\n",
        "# SVM: gamma=0.01, C=0.1\n",
        "clf = svm.SVC(gamma=0.01, C=0.1) \n",
        "clf.fit(train_feas, train_labels)\n",
        "print(\"SVM: gamma=0.01, C=0.1\")\n",
        "calc_accuracy (test_feas, test_labels)\n",
        "\n",
        "# SVM: gamma=10, C=100000\n",
        "clf = svm.SVC(gamma=10, C=100000) \n",
        "clf.fit(train_feas, train_labels)\n",
        "print(\"SVM: gamma=10, C=100000\")\n",
        "calc_accuracy (test_feas, test_labels)\n",
        "\n",
        "# SVM: gamma=10, C=100\n",
        "clf = svm.SVC(gamma=10, C=100) \n",
        "clf.fit(train_feas, train_labels)\n",
        "print(\"SVM: gamma=10, C=100\")\n",
        "calc_accuracy (test_feas, test_labels)\n",
        "\n",
        "\n",
        "# SVM: gamma=10, C=1\n",
        "clf = svm.SVC(gamma=10, C=1) \n",
        "clf.fit(train_feas, train_labels)\n",
        "print(\"SVM: gamma=10, C=1\")\n",
        "calc_accuracy (test_feas, test_labels)\n",
        "\n",
        "# SVM: gamma=10, C=0.1\n",
        "clf = svm.SVC(gamma=10, C=0.1) \n",
        "clf.fit(train_feas, train_labels)\n",
        "print(\"SVM: gamma=10, C=0.1\")\n",
        "calc_accuracy (test_feas, test_labels)\n",
        "\n",
        "# SVM: gamma=100, C=100000\n",
        "clf = svm.SVC(gamma=100, C=100000) \n",
        "clf.fit(train_feas, train_labels)\n",
        "print(\"SVM: gamma=100, C=100000\")\n",
        "calc_accuracy (test_feas, test_labels)\n",
        "\n",
        "# SVM: gamma=100, C=100\n",
        "clf = svm.SVC(gamma=100, C=100) \n",
        "clf.fit(train_feas, train_labels)\n",
        "print(\"SVM: gamma=100, C=100\")\n",
        "calc_accuracy (test_feas, test_labels)\n",
        "\n",
        "# SVM: gamma=100, C=1\n",
        "clf = svm.SVC(gamma=100, C=1) \n",
        "clf.fit(train_feas, train_labels)\n",
        "print(\"SVM: gamma=100, C=1\")\n",
        "calc_accuracy (test_feas, test_labels)\n",
        "\n",
        "# SVM: gamma=100, C=0.1\n",
        "clf = svm.SVC(gamma=100, C=0.1) \n",
        "clf.fit(train_feas, train_labels)\n",
        "print(\"SVM: gamma=100, C=0.1\")\n",
        "calc_accuracy (test_feas, test_labels)"
      ],
      "execution_count": null,
      "outputs": [
        {
          "output_type": "stream",
          "text": [
            "RF: n_estimators=100, max_depth=10\n",
            "Accuracy:  0.4777777777777778\n",
            "\n",
            "RF: n_estimators=100, max_depth=5\n",
            "Accuracy:  0.4\n",
            "\n",
            "RF: n_estimators=100, max_depth=1\n",
            "Accuracy:  0.2111111111111111\n",
            "\n",
            "RF: n_estimators=50, max_depth=10\n",
            "Accuracy:  0.5222222222222223\n",
            "\n",
            "RF: n_estimators=50, max_depth=5\n",
            "Accuracy:  0.37777777777777777\n",
            "\n",
            "n_estimators=50, max_depth=1\n",
            "Accuracy:  0.2\n",
            "\n",
            "n_estimators=10, max_depth=10\n",
            "Accuracy:  0.37777777777777777\n",
            "\n",
            "n_estimators=10, max_depth=5\n",
            "Accuracy:  0.37777777777777777\n",
            "\n",
            "n_estimators=10, max_depth=1\n",
            "Accuracy:  0.15555555555555556\n",
            "\n",
            "SVM: gamma=0.01, C=100000\n",
            "Accuracy:  0.6111111111111112\n",
            "\n",
            "SVM: gamma=0.01, C=100\n",
            "Accuracy:  0.6111111111111112\n",
            "\n",
            "SVM: gamma=0.01, C=1\n",
            "Accuracy:  0.35555555555555557\n",
            "\n",
            "SVM: gamma=0.01, C=0.1\n",
            "Accuracy:  0.1111111111111111\n",
            "\n",
            "SVM: gamma=10, C=100000\n",
            "Accuracy:  0.12222222222222222\n",
            "\n",
            "SVM: gamma=10, C=100\n",
            "Accuracy:  0.12222222222222222\n",
            "\n",
            "SVM: gamma=10, C=1\n",
            "Accuracy:  0.12222222222222222\n",
            "\n",
            "SVM: gamma=10, C=0.1\n",
            "Accuracy:  0.1111111111111111\n",
            "\n",
            "SVM: gamma=100, C=100000\n",
            "Accuracy:  0.12222222222222222\n",
            "\n",
            "SVM: gamma=100, C=100\n",
            "Accuracy:  0.12222222222222222\n",
            "\n",
            "SVM: gamma=100, C=1\n",
            "Accuracy:  0.12222222222222222\n",
            "\n",
            "SVM: gamma=100, C=0.1\n",
            "Accuracy:  0.1111111111111111\n",
            "\n"
          ],
          "name": "stdout"
        }
      ]
    },
    {
      "cell_type": "markdown",
      "metadata": {
        "id": "j3kKKpXnUH89"
      },
      "source": [
        "  - For RF, larger the n_estimators and max_depth, larger the accuracy; but exception happens when n_estimator = 50 and max_depth = 10 which gives RF the highest accuracy = 0.52.\n",
        "  - For SVM, when gamma is small and C is large, SVM has higher accuracy。 SVM achives its highest accuracy when gamma=0.01 and C=100000 with accuracy = 0.61. We also notice that when C > 100, change C won't affect accruacy significantly</br>\n",
        "  - **Overall, SVM provided better result.**"
      ]
    },
    {
      "cell_type": "markdown",
      "metadata": {
        "id": "4ALKLYNj4XPt"
      },
      "source": [
        "##1.8. (b): Experiment training both classifiers with a range of random states (try different random values for the argument ‘random state’) and measure classification accuracy of the test set. Which classifier is more stable or robust to the change in random state?"
      ]
    },
    {
      "cell_type": "code",
      "metadata": {
        "id": "iiT0ll5h4rWn",
        "outputId": "9bb4b955-49f1-4114-c24e-037e7f52936b",
        "colab": {
          "base_uri": "https://localhost:8080/"
        }
      },
      "source": [
        "random = [1,5,10,20,50]\n",
        "for i in random:\n",
        "  print(\"////////////////////////\")\n",
        "  print(\"When random state is \",i)\n",
        "  clf = svm.SVC(gamma='scale', C=10000, random_state=i)\n",
        "  clf.fit(train_feas, train_labels)\n",
        "  print(\"SVM classification \")\n",
        "  calc_accuracy(test_feas, test_labels)\n",
        "\n",
        "  clf = RandomForestClassifier(n_estimators=90, max_depth=60, criterion='entropy', random_state=i)\n",
        "  clf.fit(train_feas, train_labels)\n",
        "  print(\"Random Forest \")\n",
        "  calc_accuracy(test_feas, test_labels)"
      ],
      "execution_count": 19,
      "outputs": [
        {
          "output_type": "stream",
          "text": [
            "////////////////////////\n",
            "When random state is  1\n",
            "SVM classification \n",
            "Accuracy:  0.6111111111111112\n",
            "\n",
            "Random Forest \n",
            "Accuracy:  0.4777777777777778\n",
            "\n",
            "////////////////////////\n",
            "When random state is  5\n",
            "SVM classification \n",
            "Accuracy:  0.6111111111111112\n",
            "\n",
            "Random Forest \n",
            "Accuracy:  0.5222222222222223\n",
            "\n",
            "////////////////////////\n",
            "When random state is  10\n",
            "SVM classification \n",
            "Accuracy:  0.6111111111111112\n",
            "\n",
            "Random Forest \n",
            "Accuracy:  0.4888888888888889\n",
            "\n",
            "////////////////////////\n",
            "When random state is  20\n",
            "SVM classification \n",
            "Accuracy:  0.6111111111111112\n",
            "\n",
            "Random Forest \n",
            "Accuracy:  0.5\n",
            "\n",
            "////////////////////////\n",
            "When random state is  50\n",
            "SVM classification \n",
            "Accuracy:  0.6111111111111112\n",
            "\n",
            "Random Forest \n",
            "Accuracy:  0.5333333333333333\n",
            "\n"
          ],
          "name": "stdout"
        }
      ]
    },
    {
      "cell_type": "markdown",
      "metadata": {
        "id": "Xma2vDjS_kid"
      },
      "source": [
        "From the results displayed above, we notice that the accuracy of SVM is very stable and equals to 0.61, but the accuracy of RF changes significantly with different state; Therefore, **SVM is more stable and robust to the change in random state**"
      ]
    }
  ]
}